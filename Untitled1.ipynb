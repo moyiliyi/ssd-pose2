{
 "cells": [
  {
   "cell_type": "code",
   "execution_count": 8,
   "metadata": {
    "collapsed": true
   },
   "outputs": [],
   "source": [
    "import os\n",
    "import os.path as osp\n",
    "import json"
   ]
  },
  {
   "cell_type": "code",
   "execution_count": 6,
   "metadata": {
    "collapsed": true
   },
   "outputs": [],
   "source": [
    "val = 'data/3Dpascal/pascal3D/cache/val/'\n",
    "train = 'data/3Dpascal/pascal3D/cache/train/'\n",
    "\n",
    "va = os.listdir(val)\n",
    "tr = os.listdir(train)"
   ]
  },
  {
   "cell_type": "code",
   "execution_count": 9,
   "metadata": {
    "collapsed": false
   },
   "outputs": [],
   "source": [
    "for v in va:\n",
    "    if v in tr:\n",
    "        print 'woah'"
   ]
  },
  {
   "cell_type": "code",
   "execution_count": 15,
   "metadata": {
    "collapsed": false
   },
   "outputs": [
    {
     "name": "stdout",
     "output_type": "stream",
     "text": [
      "18627\n",
      "21297\n"
     ]
    }
   ],
   "source": [
    "count = 0\n",
    "total = 0\n",
    "for t in tr:\n",
    "    if t[-3:] == 'txt': continue\n",
    "    data = json.load(open(osp.join(train, t), 'r'))\n",
    "    if data['database'] == 'ImageNet':\n",
    "        count +=1\n",
    "    total += 1\n",
    "print count\n",
    "print total"
   ]
  },
  {
   "cell_type": "code",
   "execution_count": 17,
   "metadata": {
    "collapsed": false
   },
   "outputs": [
    {
     "name": "stdout",
     "output_type": "stream",
     "text": [
      "1738\n",
      "2000\n"
     ]
    }
   ],
   "source": [
    "count = 0\n",
    "total = 0\n",
    "for t in va:\n",
    "    if t[-3:] == 'txt': continue\n",
    "    data = json.load(open(osp.join(val, t), 'r'))\n",
    "    if data['database'] == 'ImageNet':\n",
    "        count +=1\n",
    "    total += 1\n",
    "print count\n",
    "print total"
   ]
  },
  {
   "cell_type": "code",
   "execution_count": 4,
   "metadata": {
    "collapsed": false
   },
   "outputs": [
    {
     "data": {
      "text/plain": [
       "{u'annotation': [{u'aziLabel': 7,\n",
       "   u'aziLabelFlip': 0,\n",
       "   u'bbox': [351, 272, 101, 103],\n",
       "   u'category_id': u'chair',\n",
       "   u'difficult': False,\n",
       "   u'iscrowd': 0,\n",
       "   u'viewpoint': {u'azimuth': 317.4553841641055,\n",
       "    u'azimuth_coarse': 320,\n",
       "    u'distance': 15.59274905480045,\n",
       "    u'elevation': 20.071670691308462,\n",
       "    u'elevation_coarse': 10,\n",
       "    u'error': 15.22247463183891,\n",
       "    u'focal': 1,\n",
       "    u'interval_azimuth': 7.0621455147218875,\n",
       "    u'interval_elevation': 2.636041193251832,\n",
       "    u'num_anchor': 4,\n",
       "    u'px': 416.9142108364306,\n",
       "    u'py': 345.2754746515931,\n",
       "    u'theta': 1.015374749808948,\n",
       "    u'viewport': 3000}},\n",
       "  {u'aziLabel': 3,\n",
       "   u'aziLabelFlip': 4,\n",
       "   u'bbox': [265, 250, 88, 114],\n",
       "   u'category_id': u'chair',\n",
       "   u'difficult': False,\n",
       "   u'iscrowd': 0,\n",
       "   u'viewpoint': {u'azimuth': 148.02479635626614,\n",
       "    u'azimuth_coarse': 145,\n",
       "    u'distance': 20.29786678273007,\n",
       "    u'elevation': 17.377539710787378,\n",
       "    u'elevation_coarse': 17.5,\n",
       "    u'error': 10.416231117564605,\n",
       "    u'focal': 1,\n",
       "    u'interval_azimuth': 0.23146340784234215,\n",
       "    u'interval_elevation': 0.23171362455701178,\n",
       "    u'num_anchor': 8,\n",
       "    u'px': 309.6689549434962,\n",
       "    u'py': 295.9420630703074,\n",
       "    u'theta': -2.564674656942685,\n",
       "    u'viewport': 3000}},\n",
       "  {u'aziLabel': 3,\n",
       "   u'aziLabelFlip': 4,\n",
       "   u'bbox': [189, 260, 97, 115],\n",
       "   u'category_id': u'chair',\n",
       "   u'difficult': False,\n",
       "   u'iscrowd': 0,\n",
       "   u'viewpoint': {u'azimuth': 154.53507735187023,\n",
       "    u'azimuth_coarse': 150,\n",
       "    u'distance': 18.510750177103024,\n",
       "    u'elevation': 17.63411573139358,\n",
       "    u'elevation_coarse': 12.5,\n",
       "    u'error': 7.240221292496324,\n",
       "    u'focal': 1,\n",
       "    u'interval_azimuth': 2.0322134880491856,\n",
       "    u'interval_elevation': 1.4497177366539609,\n",
       "    u'num_anchor': 6,\n",
       "    u'px': 237.98508771260563,\n",
       "    u'py': 310.6537248586089,\n",
       "    u'theta': -0.6054015771973005,\n",
       "    u'viewport': 3000}},\n",
       "  {u'aziLabel': 7,\n",
       "   u'aziLabelFlip': 0,\n",
       "   u'bbox': [149, 224, 253, 107],\n",
       "   u'category_id': u'diningtable',\n",
       "   u'difficult': False,\n",
       "   u'iscrowd': 0,\n",
       "   u'viewpoint': {u'azimuth': 343.57828908854464,\n",
       "    u'azimuth_coarse': 345,\n",
       "    u'distance': 12.312941117407949,\n",
       "    u'elevation': 11.242996322360092,\n",
       "    u'elevation_coarse': 12.5,\n",
       "    u'error': 41.086784647451324,\n",
       "    u'focal': 1,\n",
       "    u'interval_azimuth': 2.20898577552971,\n",
       "    u'interval_elevation': 1.1804927917129793,\n",
       "    u'num_anchor': 6,\n",
       "    u'px': 265.40207866905996,\n",
       "    u'py': 280.4320988430545,\n",
       "    u'theta': 1.083478190898459,\n",
       "    u'viewport': 3000}}],\n",
       " u'database': u'The VOC2008 Database',\n",
       " u'filename': u'2008_000041.jpg',\n",
       " u'image': {u'height': 375, u'width': 500},\n",
       " u'split': u'val'}"
      ]
     },
     "execution_count": 4,
     "metadata": {},
     "output_type": "execute_result"
    }
   ],
   "source": [
    "import json\n",
    "data = json.load(open('./data/3Dpascal/pascal3D/cache/val/2008_000041.json', 'r'))\n",
    "data"
   ]
  },
  {
   "cell_type": "code",
   "execution_count": 6,
   "metadata": {
    "collapsed": false
   },
   "outputs": [],
   "source": [
    "import json\n",
    "import os.path as osp\n",
    "import os\n",
    "\n"
   ]
  },
  {
   "cell_type": "code",
   "execution_count": 11,
   "metadata": {
    "collapsed": false
   },
   "outputs": [],
   "source": [
    "direc = 'data/3Dpascal/pascal3D/cache/train_bins=8_diff=False_numPascal=4/'\n",
    "files = os.listdir(direc)\n",
    "\n",
    "for fi in files:\n",
    "    if 'txt' in fi: continue\n",
    "    data = json.load(open(direc + fi, 'r'))\n",
    "    for obj in data['annotation']:\n",
    "        if obj['difficult']:\n",
    "            print 'woah'"
   ]
  },
  {
   "cell_type": "code",
   "execution_count": null,
   "metadata": {
    "collapsed": true
   },
   "outputs": [],
   "source": []
  }
 ],
 "metadata": {
  "kernelspec": {
   "display_name": "Python 2",
   "language": "python",
   "name": "python2"
  },
  "language_info": {
   "codemirror_mode": {
    "name": "ipython",
    "version": 2
   },
   "file_extension": ".py",
   "mimetype": "text/x-python",
   "name": "python",
   "nbconvert_exporter": "python",
   "pygments_lexer": "ipython2",
   "version": "2.7.11"
  }
 },
 "nbformat": 4,
 "nbformat_minor": 0
}
