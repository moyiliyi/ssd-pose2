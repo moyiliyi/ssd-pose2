{
 "cells": [
  {
   "cell_type": "code",
   "execution_count": 25,
   "metadata": {
    "collapsed": true
   },
   "outputs": [],
   "source": [
    "import matplotlib.pyplot as plt\n",
    "%matplotlib inline\n",
    "\n",
    "# TODO: edit the filename\n",
    "log_filename = 'jobs/VGGNet/Pascal3D/SSD_share_pose_300x300_8_bins/VGG_Pascal3D_SSD_share_pose_300x300_8_bins.log'\n",
    "iter_keyword = \"Iteration \"\n",
    "loss_keyword = \"loss = \""
   ]
  },
  {
   "cell_type": "code",
   "execution_count": 26,
   "metadata": {
    "collapsed": true
   },
   "outputs": [],
   "source": [
    "def getFirstFloat(string, use_decimal):\n",
    "\tcontinue_search = True\n",
    "\tdecimal_found = False\n",
    "\tend_of_first_float = 0\n",
    "\t\n",
    "\twhile continue_search and end_of_first_float < len(string):\n",
    "\t\tchar = string[end_of_first_float]\n",
    "\t\tif char.isdigit() or (char == \".\" and use_decimal and not decimal_found):\n",
    "\t\t\tif char == \".\":\n",
    "\t\t\t\tdecimal_found = True\n",
    "\t\t\tend_of_first_float += 1\n",
    "\t\telse:\n",
    "\t\t\tcontinue_search = False\n",
    "\t\n",
    "\tif end_of_first_float == 0:\n",
    "\t\treturn \"ERROR\"\n",
    "\treturn string[0:end_of_first_float]"
   ]
  },
  {
   "cell_type": "code",
   "execution_count": 32,
   "metadata": {
    "collapsed": false
   },
   "outputs": [
    {
     "data": {
      "image/png": "[encoded data removed]",
      "text/plain": [
       "<matplotlib.figure.Figure at 0x7f4811f65950>"
      ]
     },
     "metadata": {},
     "output_type": "display_data"
    }
   ],
   "source": [
    "f = open(log_filename, \"r\")\n",
    "\n",
    "points_to_plot = []\n",
    "for line in f:\n",
    "\titer_position = line.find(iter_keyword)\n",
    "\tloss_position = line.find(loss_keyword)\n",
    "\tif iter_position > -1 and loss_position > -1:\n",
    "\t\titer_num = getFirstFloat(line[iter_position + len(iter_keyword):], False)\n",
    "\t\tloss_val = getFirstFloat(line[loss_position + len(loss_keyword):], True)\n",
    "\t\tif iter_num != \"ERROR\" and loss_val != \"ERROR\":\n",
    "\t\t\tpoints_to_plot.append([iter_num, loss_val])\n",
    "\t\telse:\n",
    "\t\t\tprint \"ERROR: \"\n",
    "\t\t\tprint line\n",
    "\n",
    "#print points_to_plot\n",
    "plt.plot([x[0] for x in points_to_plot], [x[1] for x in points_to_plot])\n",
    "plt.show()"
   ]
  },
  {
   "cell_type": "code",
   "execution_count": null,
   "metadata": {
    "collapsed": true
   },
   "outputs": [],
   "source": []
  },
  {
   "cell_type": "code",
   "execution_count": null,
   "metadata": {
    "collapsed": true
   },
   "outputs": [],
   "source": []
  }
 ],
 "metadata": {
  "kernelspec": {
   "display_name": "Python 2",
   "language": "python",
   "name": "python2"
  },
  "language_info": {
   "codemirror_mode": {
    "name": "ipython",
    "version": 2
   },
   "file_extension": ".py",
   "mimetype": "text/x-python",
   "name": "python",
   "nbconvert_exporter": "python",
   "pygments_lexer": "ipython2",
   "version": "2.7.11"
  }
 },
 "nbformat": 4,
 "nbformat_minor": 0
}
